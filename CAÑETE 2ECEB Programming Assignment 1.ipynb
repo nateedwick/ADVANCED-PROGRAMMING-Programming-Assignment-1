{
 "cells": [
  {
   "cell_type": "markdown",
   "id": "cc59b6ca-4dfa-43e3-8ed0-df8ca360871e",
   "metadata": {},
   "source": [
    "ALPHABET SOUP PROBLEM"
   ]
  },
  {
   "cell_type": "code",
   "execution_count": 17,
   "id": "b240c1e4-86d3-4bcb-a720-013256e6f65a",
   "metadata": {},
   "outputs": [
    {
     "name": "stdout",
     "output_type": "stream",
     "text": [
      "ehllo\n",
      "acehkr\n"
     ]
    }
   ],
   "source": [
    "def alphabet_soup(word):\n",
    "    letters = list(word)                      # turn the word into a list of letters\n",
    "    letters.sort()                            # sort the letters in the list alphabetically\n",
    "    return \"\".join(letters)                   # compile lahat ng letters\n",
    "\n",
    "print(alphabet_soup(\"hello\"))\n",
    "print(alphabet_soup(\"hacker\"))\n"
   ]
  },
  {
   "cell_type": "markdown",
   "id": "f085811f-9e5d-4943-bd36-72e042259500",
   "metadata": {},
   "source": [
    "EMOTICON PROBLEM"
   ]
  },
  {
   "cell_type": "code",
   "execution_count": 22,
   "id": "a859e595-ffac-4456-a5c3-5a4ebc40ec8a",
   "metadata": {},
   "outputs": [
    {
     "name": "stdout",
     "output_type": "stream",
     "text": [
      "Make me :)\n",
      "I am >:(\n"
     ]
    }
   ],
   "source": [
    "def emotify(sentence):\n",
    "    d = {\n",
    "        \"smile\": \":)\", \n",
    "        \"grin\": \":D\",\n",
    "        \"sad\": \":((\",\n",
    "        \"mad\": \">:(\"\n",
    "    }\n",
    "\n",
    "    words = sentence.split()                  # split into list of words\n",
    "    new_words = []                            # empty list para istore bagong version ng words\n",
    "\n",
    "    for w in words:                           # go through each word one by one\n",
    "        lw = w.lower()                        # make the word lowercase\n",
    "        if lw in d:                           # check in dictionary\n",
    "            new_words.append(d[lw])           # replace with emoticon\n",
    "        else:\n",
    "            new_words.append(w)               # retain orig. word pag wala sa dictionary\n",
    "\n",
    "    return \" \".join(new_words)                # compile lahat ng nasa new_words with spaces in between\n",
    "\n",
    "print(emotify(\"Make me smile\"))\n",
    "print(emotify(\"I am mad\"))\n"
   ]
  },
  {
   "cell_type": "markdown",
   "id": "70d62d9a-d5fa-4aa4-b84f-e7aa54905bd8",
   "metadata": {},
   "source": [
    "UNPACKING LIST PROBLEM"
   ]
  },
  {
   "cell_type": "code",
   "execution_count": 10,
   "id": "6a011a56-2054-465b-ad76-753b8d734faf",
   "metadata": {},
   "outputs": [
    {
     "name": "stdout",
     "output_type": "stream",
     "text": [
      "first: 1\n",
      "middle: [2, 3, 4, 5]\n",
      "last: 6\n"
     ]
    }
   ],
   "source": [
    "lst = [1, 2, 3, 4, 5, 6]\n",
    "\n",
    "first = lst[0]                                # take first item in the list (index 0 = 1)\n",
    "middle = lst[1:-1]                            # take all items except yung first at yung last ([2,3,4,5])\n",
    "last = lst[-1]                                # take last item in the list (index -1 = 6)\n",
    "\n",
    "print(\"first:\", first)                       \n",
    "print(\"middle:\", middle)\n",
    "print(\"last:\", last)\n"
   ]
  }
 ],
 "metadata": {
  "kernelspec": {
   "display_name": "Python 3 (ipykernel)",
   "language": "python",
   "name": "python3"
  },
  "language_info": {
   "codemirror_mode": {
    "name": "ipython",
    "version": 3
   },
   "file_extension": ".py",
   "mimetype": "text/x-python",
   "name": "python",
   "nbconvert_exporter": "python",
   "pygments_lexer": "ipython3",
   "version": "3.13.5"
  }
 },
 "nbformat": 4,
 "nbformat_minor": 5
}
